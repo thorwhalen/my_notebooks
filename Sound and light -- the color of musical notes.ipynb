{
 "cells": [
  {
   "cell_type": "markdown",
   "metadata": {
    "toc": true
   },
   "source": [
    "<h1>Table of Contents<span class=\"tocSkip\"></span></h1>\n",
    "<div class=\"toc\"><ul class=\"toc-item\"><li><span><a href=\"#The-main-point\" data-toc-modified-id=\"The-main-point-1\"><span class=\"toc-item-num\">1&nbsp;&nbsp;</span>The main point</a></span><ul class=\"toc-item\"><li><span><a href=\"#A-few-more-details-on-the-objects-that-are-used-here...\" data-toc-modified-id=\"A-few-more-details-on-the-objects-that-are-used-here...-1.1\"><span class=\"toc-item-num\">1.1&nbsp;&nbsp;</span>A few more details on the objects that are used here...</a></span></li></ul></li><li><span><a href=\"#Get-the-notes-data\" data-toc-modified-id=\"Get-the-notes-data-2\"><span class=\"toc-item-num\">2&nbsp;&nbsp;</span>Get the notes data</a></span><ul class=\"toc-item\"><li><span><a href=\"#The-data-we'll-use\" data-toc-modified-id=\"The-data-we'll-use-2.1\"><span class=\"toc-item-num\">2.1&nbsp;&nbsp;</span>The data we'll use</a></span></li><li><span><a href=\"#Extra:-How-tempered-are-we-(how-consistent-is-the-step-size-between-notes)?\" data-toc-modified-id=\"Extra:-How-tempered-are-we-(how-consistent-is-the-step-size-between-notes)?-2.2\"><span class=\"toc-item-num\">2.2&nbsp;&nbsp;</span>Extra: How tempered are we (how consistent is the step size between notes)?</a></span></li></ul></li><li><span><a href=\"#Color-data\" data-toc-modified-id=\"Color-data-3\"><span class=\"toc-item-num\">3&nbsp;&nbsp;</span>Color data</a></span><ul class=\"toc-item\"><li><span><a href=\"#The-way-I-got-the-color-data\" data-toc-modified-id=\"The-way-I-got-the-color-data-3.1\"><span class=\"toc-item-num\">3.1&nbsp;&nbsp;</span>The way I got the color data</a></span></li></ul></li></ul></div>"
   ]
  },
  {
   "cell_type": "code",
   "execution_count": null,
   "metadata": {},
   "outputs": [],
   "source": []
  },
  {
   "cell_type": "code",
   "execution_count": null,
   "metadata": {},
   "outputs": [],
   "source": []
  },
  {
   "cell_type": "markdown",
   "metadata": {},
   "source": [
    "# The main point"
   ]
  },
  {
   "cell_type": "markdown",
   "metadata": {},
   "source": [
    " I've often seen that “color of musical notes” thing, \n",
    " and I always wondered about it (especially because I’d like to use it as educational support when I teach my (reluctant) \n",
    " daughter music). \n",
    " The mappings I see are not always consistent, but one comes up most often; \n",
    " the one where the red-to-violet range is mapped to the C-to-B range. \n",
    " Now this could just so happen to be correct, but the choice that C as the canonical root note of a scale seems \n",
    " to be arbitrary, whereas red as the first color is a physical reality, leading me to think that:\n",
    "- The choice of C as the root note was purposely based on the red-to-violet correspondence\n",
    "- It’s a crock of s**t \n",
    " \n",
    "Here's look into the numbers…"
   ]
  },
  {
   "cell_type": "code",
   "execution_count": 1,
   "metadata": {
    "ExecuteTime": {
     "end_time": "2020-07-07T17:42:45.567584Z",
     "start_time": "2020-07-07T17:42:44.296367Z"
    }
   },
   "outputs": [
    {
     "name": "stdout",
     "output_type": "stream",
     "text": [
      "abs_note  log2_base_freq   Color  color_freq_THz\n",
      "       C            0.03   Green           566.0\n",
      "      C#            0.11    Cyan           600.0\n",
      "       D            0.20    Blue           638.0\n",
      "      D#            0.28    Blue           638.0\n",
      "       E            0.36  Violet           714.0\n",
      "       F            0.45  Violet           714.0\n",
      "      F#            0.53  Violet           714.0\n",
      "       G            0.61     Red           428.0\n",
      "      G#            0.70     Red           428.0\n",
      "       A            0.78     Red           428.0\n",
      "      A#            0.86  Orange           484.0\n",
      "       B            0.95  Yellow           517.0\n"
     ]
    }
   ],
   "source": [
    "import requests\n",
    "import pandas as pd\n",
    "import numpy as np\n",
    "import re\n",
    "from collections import Counter\n",
    "\n",
    "note_to_abs_note = lambda note: re.compile('[#A-G]+').match(note).group(0)\n",
    "\n",
    "def get_notes_base_freq():\n",
    "    url = 'https://pages.mtu.edu/~suits/notefreqs.html'\n",
    "    r = requests.get(url)\n",
    "    html = r.content\n",
    "    _, df = pd.read_html(html)\n",
    "    df.columns = ['Note', 'Frequency', 'Wavelength']\n",
    "    df['abs_note'] = list(map(note_to_abs_note, df['Note']))\n",
    "    df['log2_freq'] = np.log2(df['Frequency'])\n",
    "    df['log2_base_freq'] = np.mod(df['log2_freq'], 1)  # to get a representative frequency number for a note\n",
    "    \n",
    "    # the decimals=2 is what leads to a consistent note->log2_base_freq mapping:\n",
    "    df['log2_base_freq'] = np.round(df['log2_base_freq'], decimals=2)  \n",
    "    assert len(Counter(df['log2_base_freq'])) == len(Counter(df['abs_note']))  # assert that we're good!\n",
    "    \n",
    "    t = df[['abs_note', 'log2_base_freq']].groupby('abs_note').mean()\n",
    "    return t.reset_index()\n",
    "\n",
    "def get_color_base_freq():\n",
    "    url = 'https://en.wikipedia.org/wiki/Color'\n",
    "    r = requests.get(url)\n",
    "    html = r.content\n",
    "    tables = pd.read_html(html)\n",
    "    d = tables[2]  # chose number 2 manually (see \"the way I got the color data\" section)\n",
    "    d = d[['Color', '(THz)']]\n",
    "    d = d.iloc[1:8]\n",
    "    d['(THz)'] = d['(THz)'].astype(float)\n",
    "    d['Color'] = d['Color'].replace('Violet (visible)', 'Violet')\n",
    "    t = d['(THz)'] * 1e12  # Tera means 10^12 (10 ** 12 == 1e12)\n",
    "    d['log2_base_freq'] = np.mod(np.log2(t), 1)\n",
    "    d['color_freq_THz'] = d['(THz)']\n",
    "    del d['(THz)']\n",
    "    return d\n",
    "\n",
    "notes = get_notes_base_freq()\n",
    "color = get_color_base_freq()\n",
    "\n",
    "the_truth_about_it = pd.merge_asof(notes.sort_values('log2_base_freq'), \n",
    "                                   color.sort_values('log2_base_freq'), \n",
    "                                   on='log2_base_freq')\n",
    "\n",
    "print(the_truth_about_it.to_string(index=False))"
   ]
  },
  {
   "cell_type": "markdown",
   "metadata": {
    "ExecuteTime": {
     "end_time": "2020-07-07T17:35:28.811847Z",
     "start_time": "2020-07-07T17:35:28.784022Z"
    }
   },
   "source": [
    "The conclusion is:\n",
    "\n",
    "It’s a lie. At least the C -> red, D -> Orange, ..., B -> Violet is.\n",
    "\n",
    "But… It does seem to correspond to an A-based scale! \n",
    "That is \n",
    "- A -> Red (on the orange side), \n",
    "- B -> Yellow, \n",
    "- C -> Green, \n",
    "- D -> Blue, \n",
    "- E -> Blue-Violet, \n",
    "- F -> Red-Violet, \n",
    "- G -> Red\n",
    "\n",
    "Which now makes me think that it’s the reason why we call it “A” in the first place..."
   ]
  },
  {
   "cell_type": "markdown",
   "metadata": {},
   "source": [
    "## A few more details on the objects that are used here..."
   ]
  },
  {
   "cell_type": "code",
   "execution_count": 67,
   "metadata": {
    "ExecuteTime": {
     "end_time": "2020-07-07T17:27:37.294760Z",
     "start_time": "2020-07-07T17:27:36.571950Z"
    }
   },
   "outputs": [],
   "source": [
    "notes = get_notes_base_freq()\n",
    "color = get_color_base_freq()"
   ]
  },
  {
   "cell_type": "code",
   "execution_count": 68,
   "metadata": {
    "ExecuteTime": {
     "end_time": "2020-07-07T17:27:37.537949Z",
     "start_time": "2020-07-07T17:27:37.517297Z"
    }
   },
   "outputs": [
    {
     "data": {
      "text/html": [
       "<div>\n",
       "<style scoped>\n",
       "    .dataframe tbody tr th:only-of-type {\n",
       "        vertical-align: middle;\n",
       "    }\n",
       "\n",
       "    .dataframe tbody tr th {\n",
       "        vertical-align: top;\n",
       "    }\n",
       "\n",
       "    .dataframe thead th {\n",
       "        text-align: right;\n",
       "    }\n",
       "</style>\n",
       "<table border=\"1\" class=\"dataframe\">\n",
       "  <thead>\n",
       "    <tr style=\"text-align: right;\">\n",
       "      <th></th>\n",
       "      <th>abs_note</th>\n",
       "      <th>log2_base_freq</th>\n",
       "    </tr>\n",
       "  </thead>\n",
       "  <tbody>\n",
       "    <tr>\n",
       "      <th>0</th>\n",
       "      <td>A</td>\n",
       "      <td>0.781360</td>\n",
       "    </tr>\n",
       "    <tr>\n",
       "      <th>1</th>\n",
       "      <td>A#</td>\n",
       "      <td>0.864715</td>\n",
       "    </tr>\n",
       "    <tr>\n",
       "      <th>2</th>\n",
       "      <td>B</td>\n",
       "      <td>0.948047</td>\n",
       "    </tr>\n",
       "    <tr>\n",
       "      <th>3</th>\n",
       "      <td>C</td>\n",
       "      <td>0.031336</td>\n",
       "    </tr>\n",
       "    <tr>\n",
       "      <th>4</th>\n",
       "      <td>C#</td>\n",
       "      <td>0.114675</td>\n",
       "    </tr>\n",
       "    <tr>\n",
       "      <th>5</th>\n",
       "      <td>D</td>\n",
       "      <td>0.198003</td>\n",
       "    </tr>\n",
       "    <tr>\n",
       "      <th>6</th>\n",
       "      <td>D#</td>\n",
       "      <td>0.281388</td>\n",
       "    </tr>\n",
       "    <tr>\n",
       "      <th>7</th>\n",
       "      <td>E</td>\n",
       "      <td>0.364668</td>\n",
       "    </tr>\n",
       "    <tr>\n",
       "      <th>8</th>\n",
       "      <td>F</td>\n",
       "      <td>0.448040</td>\n",
       "    </tr>\n",
       "    <tr>\n",
       "      <th>9</th>\n",
       "      <td>F#</td>\n",
       "      <td>0.531334</td>\n",
       "    </tr>\n",
       "    <tr>\n",
       "      <th>10</th>\n",
       "      <td>G</td>\n",
       "      <td>0.614702</td>\n",
       "    </tr>\n",
       "    <tr>\n",
       "      <th>11</th>\n",
       "      <td>G#</td>\n",
       "      <td>0.698041</td>\n",
       "    </tr>\n",
       "  </tbody>\n",
       "</table>\n",
       "</div>"
      ],
      "text/plain": [
       "   abs_note  log2_base_freq\n",
       "0         A        0.781360\n",
       "1        A#        0.864715\n",
       "2         B        0.948047\n",
       "3         C        0.031336\n",
       "4        C#        0.114675\n",
       "5         D        0.198003\n",
       "6        D#        0.281388\n",
       "7         E        0.364668\n",
       "8         F        0.448040\n",
       "9        F#        0.531334\n",
       "10        G        0.614702\n",
       "11       G#        0.698041"
      ]
     },
     "execution_count": 68,
     "metadata": {},
     "output_type": "execute_result"
    }
   ],
   "source": [
    "notes"
   ]
  },
  {
   "cell_type": "code",
   "execution_count": 69,
   "metadata": {
    "ExecuteTime": {
     "end_time": "2020-07-07T17:27:40.818891Z",
     "start_time": "2020-07-07T17:27:40.798400Z"
    }
   },
   "outputs": [
    {
     "data": {
      "text/html": [
       "<div>\n",
       "<style scoped>\n",
       "    .dataframe tbody tr th:only-of-type {\n",
       "        vertical-align: middle;\n",
       "    }\n",
       "\n",
       "    .dataframe tbody tr th {\n",
       "        vertical-align: top;\n",
       "    }\n",
       "\n",
       "    .dataframe thead th {\n",
       "        text-align: right;\n",
       "    }\n",
       "</style>\n",
       "<table border=\"1\" class=\"dataframe\">\n",
       "  <thead>\n",
       "    <tr style=\"text-align: right;\">\n",
       "      <th></th>\n",
       "      <th>Color</th>\n",
       "      <th>log2_base_freq</th>\n",
       "      <th>color_freq_THz</th>\n",
       "    </tr>\n",
       "  </thead>\n",
       "  <tbody>\n",
       "    <tr>\n",
       "      <th>1</th>\n",
       "      <td>Red</td>\n",
       "      <td>0.604604</td>\n",
       "      <td>428.0</td>\n",
       "    </tr>\n",
       "    <tr>\n",
       "      <th>2</th>\n",
       "      <td>Orange</td>\n",
       "      <td>0.782000</td>\n",
       "      <td>484.0</td>\n",
       "    </tr>\n",
       "    <tr>\n",
       "      <th>3</th>\n",
       "      <td>Yellow</td>\n",
       "      <td>0.877158</td>\n",
       "      <td>517.0</td>\n",
       "    </tr>\n",
       "    <tr>\n",
       "      <th>4</th>\n",
       "      <td>Green</td>\n",
       "      <td>0.007795</td>\n",
       "      <td>566.0</td>\n",
       "    </tr>\n",
       "    <tr>\n",
       "      <th>5</th>\n",
       "      <td>Cyan</td>\n",
       "      <td>0.091956</td>\n",
       "      <td>600.0</td>\n",
       "    </tr>\n",
       "    <tr>\n",
       "      <th>6</th>\n",
       "      <td>Blue</td>\n",
       "      <td>0.180550</td>\n",
       "      <td>638.0</td>\n",
       "    </tr>\n",
       "    <tr>\n",
       "      <th>7</th>\n",
       "      <td>Violet</td>\n",
       "      <td>0.342917</td>\n",
       "      <td>714.0</td>\n",
       "    </tr>\n",
       "  </tbody>\n",
       "</table>\n",
       "</div>"
      ],
      "text/plain": [
       "    Color  log2_base_freq  color_freq_THz\n",
       "1     Red        0.604604           428.0\n",
       "2  Orange        0.782000           484.0\n",
       "3  Yellow        0.877158           517.0\n",
       "4   Green        0.007795           566.0\n",
       "5    Cyan        0.091956           600.0\n",
       "6    Blue        0.180550           638.0\n",
       "7  Violet        0.342917           714.0"
      ]
     },
     "execution_count": 69,
     "metadata": {},
     "output_type": "execute_result"
    }
   ],
   "source": [
    "color"
   ]
  },
  {
   "cell_type": "code",
   "execution_count": 70,
   "metadata": {
    "ExecuteTime": {
     "end_time": "2020-07-07T17:27:43.483492Z",
     "start_time": "2020-07-07T17:27:43.456586Z"
    }
   },
   "outputs": [
    {
     "data": {
      "text/html": [
       "<div>\n",
       "<style scoped>\n",
       "    .dataframe tbody tr th:only-of-type {\n",
       "        vertical-align: middle;\n",
       "    }\n",
       "\n",
       "    .dataframe tbody tr th {\n",
       "        vertical-align: top;\n",
       "    }\n",
       "\n",
       "    .dataframe thead th {\n",
       "        text-align: right;\n",
       "    }\n",
       "</style>\n",
       "<table border=\"1\" class=\"dataframe\">\n",
       "  <thead>\n",
       "    <tr style=\"text-align: right;\">\n",
       "      <th></th>\n",
       "      <th>abs_note</th>\n",
       "      <th>log2_base_freq</th>\n",
       "      <th>Color</th>\n",
       "      <th>color_freq_THz</th>\n",
       "    </tr>\n",
       "  </thead>\n",
       "  <tbody>\n",
       "    <tr>\n",
       "      <th>0</th>\n",
       "      <td>C</td>\n",
       "      <td>0.031336</td>\n",
       "      <td>Green</td>\n",
       "      <td>566.0</td>\n",
       "    </tr>\n",
       "    <tr>\n",
       "      <th>1</th>\n",
       "      <td>C#</td>\n",
       "      <td>0.114675</td>\n",
       "      <td>Cyan</td>\n",
       "      <td>600.0</td>\n",
       "    </tr>\n",
       "    <tr>\n",
       "      <th>2</th>\n",
       "      <td>D</td>\n",
       "      <td>0.198003</td>\n",
       "      <td>Blue</td>\n",
       "      <td>638.0</td>\n",
       "    </tr>\n",
       "    <tr>\n",
       "      <th>3</th>\n",
       "      <td>D#</td>\n",
       "      <td>0.281388</td>\n",
       "      <td>Blue</td>\n",
       "      <td>638.0</td>\n",
       "    </tr>\n",
       "    <tr>\n",
       "      <th>4</th>\n",
       "      <td>E</td>\n",
       "      <td>0.364668</td>\n",
       "      <td>Violet</td>\n",
       "      <td>714.0</td>\n",
       "    </tr>\n",
       "    <tr>\n",
       "      <th>5</th>\n",
       "      <td>F</td>\n",
       "      <td>0.448040</td>\n",
       "      <td>Violet</td>\n",
       "      <td>714.0</td>\n",
       "    </tr>\n",
       "    <tr>\n",
       "      <th>6</th>\n",
       "      <td>F#</td>\n",
       "      <td>0.531334</td>\n",
       "      <td>Violet</td>\n",
       "      <td>714.0</td>\n",
       "    </tr>\n",
       "    <tr>\n",
       "      <th>7</th>\n",
       "      <td>G</td>\n",
       "      <td>0.614702</td>\n",
       "      <td>Red</td>\n",
       "      <td>428.0</td>\n",
       "    </tr>\n",
       "    <tr>\n",
       "      <th>8</th>\n",
       "      <td>G#</td>\n",
       "      <td>0.698041</td>\n",
       "      <td>Red</td>\n",
       "      <td>428.0</td>\n",
       "    </tr>\n",
       "    <tr>\n",
       "      <th>9</th>\n",
       "      <td>A</td>\n",
       "      <td>0.781360</td>\n",
       "      <td>Red</td>\n",
       "      <td>428.0</td>\n",
       "    </tr>\n",
       "    <tr>\n",
       "      <th>10</th>\n",
       "      <td>A#</td>\n",
       "      <td>0.864715</td>\n",
       "      <td>Orange</td>\n",
       "      <td>484.0</td>\n",
       "    </tr>\n",
       "    <tr>\n",
       "      <th>11</th>\n",
       "      <td>B</td>\n",
       "      <td>0.948047</td>\n",
       "      <td>Yellow</td>\n",
       "      <td>517.0</td>\n",
       "    </tr>\n",
       "  </tbody>\n",
       "</table>\n",
       "</div>"
      ],
      "text/plain": [
       "   abs_note  log2_base_freq   Color  color_freq_THz\n",
       "0         C        0.031336   Green           566.0\n",
       "1        C#        0.114675    Cyan           600.0\n",
       "2         D        0.198003    Blue           638.0\n",
       "3        D#        0.281388    Blue           638.0\n",
       "4         E        0.364668  Violet           714.0\n",
       "5         F        0.448040  Violet           714.0\n",
       "6        F#        0.531334  Violet           714.0\n",
       "7         G        0.614702     Red           428.0\n",
       "8        G#        0.698041     Red           428.0\n",
       "9         A        0.781360     Red           428.0\n",
       "10       A#        0.864715  Orange           484.0\n",
       "11        B        0.948047  Yellow           517.0"
      ]
     },
     "execution_count": 70,
     "metadata": {},
     "output_type": "execute_result"
    }
   ],
   "source": [
    "pd.merge_asof(notes.sort_values('log2_base_freq'), \n",
    "              color.sort_values('log2_base_freq'), \n",
    "              on='log2_base_freq')"
   ]
  },
  {
   "cell_type": "code",
   "execution_count": 71,
   "metadata": {
    "ExecuteTime": {
     "end_time": "2020-07-07T17:27:50.114736Z",
     "start_time": "2020-07-07T17:27:50.088883Z"
    }
   },
   "outputs": [
    {
     "data": {
      "text/html": [
       "<div>\n",
       "<style scoped>\n",
       "    .dataframe tbody tr th:only-of-type {\n",
       "        vertical-align: middle;\n",
       "    }\n",
       "\n",
       "    .dataframe tbody tr th {\n",
       "        vertical-align: top;\n",
       "    }\n",
       "\n",
       "    .dataframe thead th {\n",
       "        text-align: right;\n",
       "    }\n",
       "</style>\n",
       "<table border=\"1\" class=\"dataframe\">\n",
       "  <thead>\n",
       "    <tr style=\"text-align: right;\">\n",
       "      <th></th>\n",
       "      <th>Color</th>\n",
       "      <th>log2_base_freq</th>\n",
       "      <th>color_freq_THz</th>\n",
       "      <th>abs_note</th>\n",
       "    </tr>\n",
       "  </thead>\n",
       "  <tbody>\n",
       "    <tr>\n",
       "      <th>0</th>\n",
       "      <td>Green</td>\n",
       "      <td>0.007795</td>\n",
       "      <td>566.0</td>\n",
       "      <td>NaN</td>\n",
       "    </tr>\n",
       "    <tr>\n",
       "      <th>1</th>\n",
       "      <td>Cyan</td>\n",
       "      <td>0.091956</td>\n",
       "      <td>600.0</td>\n",
       "      <td>C</td>\n",
       "    </tr>\n",
       "    <tr>\n",
       "      <th>2</th>\n",
       "      <td>Blue</td>\n",
       "      <td>0.180550</td>\n",
       "      <td>638.0</td>\n",
       "      <td>C#</td>\n",
       "    </tr>\n",
       "    <tr>\n",
       "      <th>3</th>\n",
       "      <td>Violet</td>\n",
       "      <td>0.342917</td>\n",
       "      <td>714.0</td>\n",
       "      <td>D#</td>\n",
       "    </tr>\n",
       "    <tr>\n",
       "      <th>4</th>\n",
       "      <td>Red</td>\n",
       "      <td>0.604604</td>\n",
       "      <td>428.0</td>\n",
       "      <td>F#</td>\n",
       "    </tr>\n",
       "    <tr>\n",
       "      <th>5</th>\n",
       "      <td>Orange</td>\n",
       "      <td>0.782000</td>\n",
       "      <td>484.0</td>\n",
       "      <td>A</td>\n",
       "    </tr>\n",
       "    <tr>\n",
       "      <th>6</th>\n",
       "      <td>Yellow</td>\n",
       "      <td>0.877158</td>\n",
       "      <td>517.0</td>\n",
       "      <td>A#</td>\n",
       "    </tr>\n",
       "  </tbody>\n",
       "</table>\n",
       "</div>"
      ],
      "text/plain": [
       "    Color  log2_base_freq  color_freq_THz abs_note\n",
       "0   Green        0.007795           566.0      NaN\n",
       "1    Cyan        0.091956           600.0        C\n",
       "2    Blue        0.180550           638.0       C#\n",
       "3  Violet        0.342917           714.0       D#\n",
       "4     Red        0.604604           428.0       F#\n",
       "5  Orange        0.782000           484.0        A\n",
       "6  Yellow        0.877158           517.0       A#"
      ]
     },
     "execution_count": 71,
     "metadata": {},
     "output_type": "execute_result"
    }
   ],
   "source": [
    "pd.merge_asof(color.sort_values('log2_base_freq'), \n",
    "              notes.sort_values('log2_base_freq'), \n",
    "              on='log2_base_freq')"
   ]
  },
  {
   "cell_type": "code",
   "execution_count": null,
   "metadata": {},
   "outputs": [],
   "source": [
    "color.replace()"
   ]
  },
  {
   "cell_type": "code",
   "execution_count": null,
   "metadata": {},
   "outputs": [],
   "source": []
  },
  {
   "cell_type": "markdown",
   "metadata": {},
   "source": [
    "# Get the notes data"
   ]
  },
  {
   "cell_type": "code",
   "execution_count": 27,
   "metadata": {
    "ExecuteTime": {
     "end_time": "2020-07-07T17:06:59.242460Z",
     "start_time": "2020-07-07T17:06:58.761054Z"
    }
   },
   "outputs": [
    {
     "name": "stdout",
     "output_type": "stream",
     "text": [
      "(108, 3)\n"
     ]
    },
    {
     "data": {
      "text/html": [
       "<div>\n",
       "<style scoped>\n",
       "    .dataframe tbody tr th:only-of-type {\n",
       "        vertical-align: middle;\n",
       "    }\n",
       "\n",
       "    .dataframe tbody tr th {\n",
       "        vertical-align: top;\n",
       "    }\n",
       "\n",
       "    .dataframe thead th {\n",
       "        text-align: right;\n",
       "    }\n",
       "</style>\n",
       "<table border=\"1\" class=\"dataframe\">\n",
       "  <thead>\n",
       "    <tr style=\"text-align: right;\">\n",
       "      <th></th>\n",
       "      <th>Note</th>\n",
       "      <th>Frequency</th>\n",
       "      <th>Wavelength</th>\n",
       "      <th>abs_note</th>\n",
       "      <th>log2_freq</th>\n",
       "      <th>log2_base_freq</th>\n",
       "    </tr>\n",
       "  </thead>\n",
       "  <tbody>\n",
       "    <tr>\n",
       "      <th>0</th>\n",
       "      <td>C0</td>\n",
       "      <td>16.35</td>\n",
       "      <td>2109.89</td>\n",
       "      <td>C</td>\n",
       "      <td>4.031219</td>\n",
       "      <td>0.03</td>\n",
       "    </tr>\n",
       "    <tr>\n",
       "      <th>1</th>\n",
       "      <td>C#0/Db0</td>\n",
       "      <td>17.32</td>\n",
       "      <td>1991.47</td>\n",
       "      <td>C#</td>\n",
       "      <td>4.114367</td>\n",
       "      <td>0.11</td>\n",
       "    </tr>\n",
       "    <tr>\n",
       "      <th>2</th>\n",
       "      <td>D0</td>\n",
       "      <td>18.35</td>\n",
       "      <td>1879.69</td>\n",
       "      <td>D</td>\n",
       "      <td>4.197708</td>\n",
       "      <td>0.20</td>\n",
       "    </tr>\n",
       "    <tr>\n",
       "      <th>3</th>\n",
       "      <td>D#0/Eb0</td>\n",
       "      <td>19.45</td>\n",
       "      <td>1774.20</td>\n",
       "      <td>D#</td>\n",
       "      <td>4.281698</td>\n",
       "      <td>0.28</td>\n",
       "    </tr>\n",
       "    <tr>\n",
       "      <th>4</th>\n",
       "      <td>E0</td>\n",
       "      <td>20.60</td>\n",
       "      <td>1674.62</td>\n",
       "      <td>E</td>\n",
       "      <td>4.364572</td>\n",
       "      <td>0.36</td>\n",
       "    </tr>\n",
       "  </tbody>\n",
       "</table>\n",
       "</div>"
      ],
      "text/plain": [
       "      Note  Frequency  Wavelength abs_note  log2_freq  log2_base_freq\n",
       "0       C0      16.35     2109.89        C   4.031219            0.03\n",
       "1  C#0/Db0      17.32     1991.47       C#   4.114367            0.11\n",
       "2       D0      18.35     1879.69        D   4.197708            0.20\n",
       "3  D#0/Eb0      19.45     1774.20       D#   4.281698            0.28\n",
       "4       E0      20.60     1674.62        E   4.364572            0.36"
      ]
     },
     "execution_count": 27,
     "metadata": {},
     "output_type": "execute_result"
    }
   ],
   "source": [
    "url = 'https://pages.mtu.edu/~suits/notefreqs.html'\n",
    "r = requests.get(url)\n",
    "html = r.content\n",
    "_, df = pd.read_html(html)\n",
    "print(df.shape)\n",
    "df.columns = ['Note', 'Frequency', 'Wavelength']\n",
    "df['abs_note'] = list(map(note_to_abs_note, df['Note']))\n",
    "df['log2_freq'] = np.log2(df['Frequency'])\n",
    "\n",
    "# the decimals=2 is what leads to a consistent note->log2_base_freq mapping:\n",
    "df['log2_base_freq'] = np.round(np.mod(df['log2_freq'], 1), decimals=2)  \n",
    "\n",
    "df.head()"
   ]
  },
  {
   "cell_type": "code",
   "execution_count": 56,
   "metadata": {
    "ExecuteTime": {
     "end_time": "2020-07-07T16:20:08.699956Z",
     "start_time": "2020-07-07T16:20:08.681964Z"
    }
   },
   "outputs": [
    {
     "data": {
      "text/plain": [
       "Counter({'C': 9,\n",
       "         'C#': 9,\n",
       "         'D': 9,\n",
       "         'D#': 9,\n",
       "         'E': 9,\n",
       "         'F': 9,\n",
       "         'F#': 9,\n",
       "         'G': 9,\n",
       "         'G#': 9,\n",
       "         'A': 9,\n",
       "         'A#': 9,\n",
       "         'B': 9})"
      ]
     },
     "execution_count": 56,
     "metadata": {},
     "output_type": "execute_result"
    }
   ],
   "source": [
    "Counter(df['abs_note'])"
   ]
  },
  {
   "cell_type": "code",
   "execution_count": 65,
   "metadata": {
    "ExecuteTime": {
     "end_time": "2020-07-07T16:24:03.174525Z",
     "start_time": "2020-07-07T16:24:03.155863Z"
    }
   },
   "outputs": [
    {
     "data": {
      "text/plain": [
       "Counter({0.03: 9,\n",
       "         0.11: 9,\n",
       "         0.2: 9,\n",
       "         0.28: 9,\n",
       "         0.36: 9,\n",
       "         0.45: 9,\n",
       "         0.53: 9,\n",
       "         0.61: 9,\n",
       "         0.7: 9,\n",
       "         0.78: 9,\n",
       "         0.86: 9,\n",
       "         0.95: 9})"
      ]
     },
     "execution_count": 65,
     "metadata": {},
     "output_type": "execute_result"
    }
   ],
   "source": [
    "Counter(df['log2_base_freq'])"
   ]
  },
  {
   "cell_type": "code",
   "execution_count": 66,
   "metadata": {
    "ExecuteTime": {
     "end_time": "2020-07-07T16:25:47.420636Z",
     "start_time": "2020-07-07T16:25:47.402448Z"
    }
   },
   "outputs": [],
   "source": [
    "assert len(Counter(df['log2_base_freq'])) == len(Counter(df['abs_note']))"
   ]
  },
  {
   "cell_type": "markdown",
   "metadata": {},
   "source": [
    "## The data we'll use"
   ]
  },
  {
   "cell_type": "code",
   "execution_count": 74,
   "metadata": {
    "ExecuteTime": {
     "end_time": "2020-07-07T16:29:41.070506Z",
     "start_time": "2020-07-07T16:29:41.048899Z"
    }
   },
   "outputs": [
    {
     "data": {
      "text/plain": [
       "{'A': 0.78,\n",
       " 'A#': 0.86,\n",
       " 'B': 0.95,\n",
       " 'C': 0.03,\n",
       " 'C#': 0.11,\n",
       " 'D': 0.2,\n",
       " 'D#': 0.28,\n",
       " 'E': 0.36,\n",
       " 'F': 0.45,\n",
       " 'F#': 0.53,\n",
       " 'G': 0.61,\n",
       " 'G#': 0.7}"
      ]
     },
     "execution_count": 74,
     "metadata": {},
     "output_type": "execute_result"
    }
   ],
   "source": [
    "t = df[['abs_note', 'log2_base_freq']].groupby('abs_note').mean()\n",
    "t = t.to_dict()['log2_base_freq']\n",
    "# somehow, we lost the purity of the digits, so re-rounding:\n",
    "log2_base_of_note = {k: round(v, 2) for k, v in t.items()}  \n",
    "log2_base_of_note"
   ]
  },
  {
   "cell_type": "markdown",
   "metadata": {},
   "source": [
    "## Extra: How tempered are we (how consistent is the step size between notes)?"
   ]
  },
  {
   "cell_type": "code",
   "execution_count": 64,
   "metadata": {
    "ExecuteTime": {
     "end_time": "2020-07-07T16:22:01.466758Z",
     "start_time": "2020-07-07T16:22:01.324277Z"
    }
   },
   "outputs": [
    {
     "data": {
      "text/plain": [
       "[<matplotlib.lines.Line2D at 0x1269961c0>]"
      ]
     },
     "execution_count": 64,
     "metadata": {},
     "output_type": "execute_result"
    },
    {
     "data": {
      "image/png": "[encoded data removed]",
      "text/plain": [
       "<Figure size 432x288 with 1 Axes>"
      ]
     },
     "metadata": {
      "needs_background": "light"
     },
     "output_type": "display_data"
    }
   ],
   "source": [
    "t = np.diff(np.mod(df['log2_freq'], 1))\n",
    "plt.plot(t[abs(t) < 0.5])"
   ]
  },
  {
   "cell_type": "markdown",
   "metadata": {},
   "source": [
    "# Color data"
   ]
  },
  {
   "cell_type": "code",
   "execution_count": 22,
   "metadata": {
    "ExecuteTime": {
     "end_time": "2020-07-07T16:49:05.665279Z",
     "start_time": "2020-07-07T16:49:05.456265Z"
    }
   },
   "outputs": [
    {
     "data": {
      "text/html": [
       "<div>\n",
       "<style scoped>\n",
       "    .dataframe tbody tr th:only-of-type {\n",
       "        vertical-align: middle;\n",
       "    }\n",
       "\n",
       "    .dataframe tbody tr th {\n",
       "        vertical-align: top;\n",
       "    }\n",
       "\n",
       "    .dataframe thead th {\n",
       "        text-align: right;\n",
       "    }\n",
       "</style>\n",
       "<table border=\"1\" class=\"dataframe\">\n",
       "  <thead>\n",
       "    <tr style=\"text-align: right;\">\n",
       "      <th></th>\n",
       "      <th>Color</th>\n",
       "      <th>(THz)</th>\n",
       "      <th>log2_base_freq</th>\n",
       "    </tr>\n",
       "  </thead>\n",
       "  <tbody>\n",
       "    <tr>\n",
       "      <th>1</th>\n",
       "      <td>Red</td>\n",
       "      <td>428.0</td>\n",
       "      <td>0.604604</td>\n",
       "    </tr>\n",
       "    <tr>\n",
       "      <th>2</th>\n",
       "      <td>Orange</td>\n",
       "      <td>484.0</td>\n",
       "      <td>0.782000</td>\n",
       "    </tr>\n",
       "    <tr>\n",
       "      <th>3</th>\n",
       "      <td>Yellow</td>\n",
       "      <td>517.0</td>\n",
       "      <td>0.877158</td>\n",
       "    </tr>\n",
       "    <tr>\n",
       "      <th>4</th>\n",
       "      <td>Green</td>\n",
       "      <td>566.0</td>\n",
       "      <td>0.007795</td>\n",
       "    </tr>\n",
       "    <tr>\n",
       "      <th>5</th>\n",
       "      <td>Cyan</td>\n",
       "      <td>600.0</td>\n",
       "      <td>0.091956</td>\n",
       "    </tr>\n",
       "    <tr>\n",
       "      <th>6</th>\n",
       "      <td>Blue</td>\n",
       "      <td>638.0</td>\n",
       "      <td>0.180550</td>\n",
       "    </tr>\n",
       "    <tr>\n",
       "      <th>7</th>\n",
       "      <td>Violet (visible)</td>\n",
       "      <td>714.0</td>\n",
       "      <td>0.342917</td>\n",
       "    </tr>\n",
       "  </tbody>\n",
       "</table>\n",
       "</div>"
      ],
      "text/plain": [
       "              Color  (THz)  log2_base_freq\n",
       "1               Red  428.0        0.604604\n",
       "2            Orange  484.0        0.782000\n",
       "3            Yellow  517.0        0.877158\n",
       "4             Green  566.0        0.007795\n",
       "5              Cyan  600.0        0.091956\n",
       "6              Blue  638.0        0.180550\n",
       "7  Violet (visible)  714.0        0.342917"
      ]
     },
     "execution_count": 22,
     "metadata": {},
     "output_type": "execute_result"
    }
   ],
   "source": [
    "url = 'https://en.wikipedia.org/wiki/Color'\n",
    "r = requests.get(url)\n",
    "html = r.content\n",
    "tables = pd.read_html(html)\n",
    "d = tables[2]  # chose number 2 manually (see \"the way I got the color data\" section)\n",
    "d = d[['Color', '(THz)']]\n",
    "d = d.iloc[1:8]\n",
    "d['(THz)'] = d['(THz)'].astype(float)\n",
    "d['Color'] = d['Color'].replace('Violet (visible)', 'Violet')\n",
    "t = d['(THz)'] * 1e12  # Tera means 10^12 (10 ** 12 == 1e12)\n",
    "d['log2_base_freq'] = np.mod(np.log2(t), 1)\n",
    "d"
   ]
  },
  {
   "cell_type": "markdown",
   "metadata": {},
   "source": [
    "## The way I got the color data"
   ]
  },
  {
   "cell_type": "code",
   "execution_count": 3,
   "metadata": {
    "ExecuteTime": {
     "end_time": "2020-07-07T16:43:45.614409Z",
     "start_time": "2020-07-07T16:43:45.449936Z"
    }
   },
   "outputs": [],
   "source": [
    "url = 'https://en.wikipedia.org/wiki/Color'\n",
    "r = requests.get(url)\n",
    "html = r.content"
   ]
  },
  {
   "cell_type": "code",
   "execution_count": 4,
   "metadata": {
    "ExecuteTime": {
     "end_time": "2020-07-07T16:43:46.435601Z",
     "start_time": "2020-07-07T16:43:46.113053Z"
    }
   },
   "outputs": [
    {
     "data": {
      "text/plain": [
       "11"
      ]
     },
     "execution_count": 4,
     "metadata": {},
     "output_type": "execute_result"
    }
   ],
   "source": [
    "tables = pd.read_html(html)\n",
    "len(tables)"
   ]
  },
  {
   "cell_type": "markdown",
   "metadata": {},
   "source": [
    "We have 11 tables there, let's flip through them"
   ]
  },
  {
   "cell_type": "markdown",
   "metadata": {},
   "source": [
    "Run this:"
   ]
  },
  {
   "cell_type": "code",
   "execution_count": 5,
   "metadata": {
    "ExecuteTime": {
     "end_time": "2020-07-07T16:43:47.550697Z",
     "start_time": "2020-07-07T16:43:47.535268Z"
    }
   },
   "outputs": [],
   "source": [
    "from itertools import cycle\n",
    "it = cycle(enumerate(tables))"
   ]
  },
  {
   "cell_type": "markdown",
   "metadata": {},
   "source": [
    "Then run the following as many times as you want...\n",
    "\n",
    "The number that is printed is the index of t that has the table you're seeing"
   ]
  },
  {
   "cell_type": "code",
   "execution_count": 116,
   "metadata": {
    "ExecuteTime": {
     "end_time": "2020-07-07T16:38:30.466933Z",
     "start_time": "2020-07-07T16:38:30.446311Z"
    }
   },
   "outputs": [
    {
     "name": "stdout",
     "output_type": "stream",
     "text": [
      "5\n"
     ]
    },
    {
     "data": {
      "text/html": [
       "<div>\n",
       "<style scoped>\n",
       "    .dataframe tbody tr th:only-of-type {\n",
       "        vertical-align: middle;\n",
       "    }\n",
       "\n",
       "    .dataframe tbody tr th {\n",
       "        vertical-align: top;\n",
       "    }\n",
       "\n",
       "    .dataframe thead th {\n",
       "        text-align: right;\n",
       "    }\n",
       "</style>\n",
       "<table border=\"1\" class=\"dataframe\">\n",
       "  <thead>\n",
       "    <tr style=\"text-align: right;\">\n",
       "      <th></th>\n",
       "      <th>0</th>\n",
       "      <th>1</th>\n",
       "    </tr>\n",
       "  </thead>\n",
       "  <tbody>\n",
       "    <tr>\n",
       "      <th>0</th>\n",
       "      <td>Color space</td>\n",
       "      <td>Color model additive subtractive Color mixing ...</td>\n",
       "    </tr>\n",
       "    <tr>\n",
       "      <th>1</th>\n",
       "      <td>Color scheme</td>\n",
       "      <td>Color tool Monochromatic colors Complementary ...</td>\n",
       "    </tr>\n",
       "    <tr>\n",
       "      <th>2</th>\n",
       "      <td>Color theory</td>\n",
       "      <td>Chromaticity diagram Color solid Color wheel C...</td>\n",
       "    </tr>\n",
       "  </tbody>\n",
       "</table>\n",
       "</div>"
      ],
      "text/plain": [
       "              0                                                  1\n",
       "0   Color space  Color model additive subtractive Color mixing ...\n",
       "1  Color scheme  Color tool Monochromatic colors Complementary ...\n",
       "2  Color theory  Chromaticity diagram Color solid Color wheel C..."
      ]
     },
     "execution_count": 116,
     "metadata": {},
     "output_type": "execute_result"
    }
   ],
   "source": [
    "i, d = next(it)\n",
    "print(i)\n",
    "d"
   ]
  },
  {
   "cell_type": "markdown",
   "metadata": {},
   "source": [
    "Two tables show promise"
   ]
  },
  {
   "cell_type": "code",
   "execution_count": 6,
   "metadata": {
    "ExecuteTime": {
     "end_time": "2020-07-07T16:43:50.300158Z",
     "start_time": "2020-07-07T16:43:50.274516Z"
    }
   },
   "outputs": [
    {
     "data": {
      "text/html": [
       "<div>\n",
       "<style scoped>\n",
       "    .dataframe tbody tr th:only-of-type {\n",
       "        vertical-align: middle;\n",
       "    }\n",
       "\n",
       "    .dataframe tbody tr th {\n",
       "        vertical-align: top;\n",
       "    }\n",
       "\n",
       "    .dataframe thead th {\n",
       "        text-align: right;\n",
       "    }\n",
       "</style>\n",
       "<table border=\"1\" class=\"dataframe\">\n",
       "  <thead>\n",
       "    <tr style=\"text-align: right;\">\n",
       "      <th></th>\n",
       "      <th>Color</th>\n",
       "      <th>Color.1</th>\n",
       "      <th>Wavelengthinterval</th>\n",
       "      <th>Frequencyinterval</th>\n",
       "    </tr>\n",
       "  </thead>\n",
       "  <tbody>\n",
       "    <tr>\n",
       "      <th>0</th>\n",
       "      <td>NaN</td>\n",
       "      <td>Red</td>\n",
       "      <td>~ 700–635 nm</td>\n",
       "      <td>~ 430–480 THz</td>\n",
       "    </tr>\n",
       "    <tr>\n",
       "      <th>1</th>\n",
       "      <td>NaN</td>\n",
       "      <td>Orange</td>\n",
       "      <td>~ 635–590 nm</td>\n",
       "      <td>~ 480–510 THz</td>\n",
       "    </tr>\n",
       "    <tr>\n",
       "      <th>2</th>\n",
       "      <td>NaN</td>\n",
       "      <td>Yellow</td>\n",
       "      <td>~ 590–560 nm</td>\n",
       "      <td>~ 510–540 THz</td>\n",
       "    </tr>\n",
       "    <tr>\n",
       "      <th>3</th>\n",
       "      <td>NaN</td>\n",
       "      <td>Green</td>\n",
       "      <td>~ 560–520 nm</td>\n",
       "      <td>~ 540–580 THz</td>\n",
       "    </tr>\n",
       "    <tr>\n",
       "      <th>4</th>\n",
       "      <td>NaN</td>\n",
       "      <td>Cyan</td>\n",
       "      <td>~ 520–490 nm</td>\n",
       "      <td>~ 580–610 THz</td>\n",
       "    </tr>\n",
       "    <tr>\n",
       "      <th>5</th>\n",
       "      <td>NaN</td>\n",
       "      <td>Blue</td>\n",
       "      <td>~ 490–450 nm</td>\n",
       "      <td>~ 610–670 THz</td>\n",
       "    </tr>\n",
       "    <tr>\n",
       "      <th>6</th>\n",
       "      <td>NaN</td>\n",
       "      <td>Violet</td>\n",
       "      <td>~ 450–400 nm</td>\n",
       "      <td>~ 670–750 THz</td>\n",
       "    </tr>\n",
       "  </tbody>\n",
       "</table>\n",
       "</div>"
      ],
      "text/plain": [
       "   Color Color.1 Wavelengthinterval Frequencyinterval\n",
       "0    NaN     Red       ~ 700–635 nm     ~ 430–480 THz\n",
       "1    NaN  Orange       ~ 635–590 nm     ~ 480–510 THz\n",
       "2    NaN  Yellow       ~ 590–560 nm     ~ 510–540 THz\n",
       "3    NaN   Green       ~ 560–520 nm     ~ 540–580 THz\n",
       "4    NaN    Cyan       ~ 520–490 nm     ~ 580–610 THz\n",
       "5    NaN    Blue       ~ 490–450 nm     ~ 610–670 THz\n",
       "6    NaN  Violet       ~ 450–400 nm     ~ 670–750 THz"
      ]
     },
     "execution_count": 6,
     "metadata": {},
     "output_type": "execute_result"
    }
   ],
   "source": [
    "tables[1]"
   ]
  },
  {
   "cell_type": "code",
   "execution_count": 7,
   "metadata": {
    "ExecuteTime": {
     "end_time": "2020-07-07T16:43:50.876613Z",
     "start_time": "2020-07-07T16:43:50.852018Z"
    }
   },
   "outputs": [
    {
     "data": {
      "text/html": [
       "<div>\n",
       "<style scoped>\n",
       "    .dataframe tbody tr th:only-of-type {\n",
       "        vertical-align: middle;\n",
       "    }\n",
       "\n",
       "    .dataframe tbody tr th {\n",
       "        vertical-align: top;\n",
       "    }\n",
       "\n",
       "    .dataframe thead th {\n",
       "        text-align: right;\n",
       "    }\n",
       "</style>\n",
       "<table border=\"1\" class=\"dataframe\">\n",
       "  <thead>\n",
       "    <tr style=\"text-align: right;\">\n",
       "      <th></th>\n",
       "      <th>Color</th>\n",
       "      <th>(nm)</th>\n",
       "      <th>(THz)</th>\n",
       "      <th>(μm−1)</th>\n",
       "      <th>(eV)</th>\n",
       "      <th>(kJ mol−1)</th>\n",
       "    </tr>\n",
       "  </thead>\n",
       "  <tbody>\n",
       "    <tr>\n",
       "      <th>0</th>\n",
       "      <td>Infrared</td>\n",
       "      <td>&gt;1000</td>\n",
       "      <td>&lt;300</td>\n",
       "      <td>&lt;1.00</td>\n",
       "      <td>&lt;1.24</td>\n",
       "      <td>&lt;120</td>\n",
       "    </tr>\n",
       "    <tr>\n",
       "      <th>1</th>\n",
       "      <td>Red</td>\n",
       "      <td>700</td>\n",
       "      <td>428</td>\n",
       "      <td>1.43</td>\n",
       "      <td>1.77</td>\n",
       "      <td>171</td>\n",
       "    </tr>\n",
       "    <tr>\n",
       "      <th>2</th>\n",
       "      <td>Orange</td>\n",
       "      <td>620</td>\n",
       "      <td>484</td>\n",
       "      <td>1.61</td>\n",
       "      <td>2.00</td>\n",
       "      <td>193</td>\n",
       "    </tr>\n",
       "    <tr>\n",
       "      <th>3</th>\n",
       "      <td>Yellow</td>\n",
       "      <td>580</td>\n",
       "      <td>517</td>\n",
       "      <td>1.72</td>\n",
       "      <td>2.14</td>\n",
       "      <td>206</td>\n",
       "    </tr>\n",
       "    <tr>\n",
       "      <th>4</th>\n",
       "      <td>Green</td>\n",
       "      <td>530</td>\n",
       "      <td>566</td>\n",
       "      <td>1.89</td>\n",
       "      <td>2.34</td>\n",
       "      <td>226</td>\n",
       "    </tr>\n",
       "    <tr>\n",
       "      <th>5</th>\n",
       "      <td>Cyan</td>\n",
       "      <td>500</td>\n",
       "      <td>600</td>\n",
       "      <td>NaN</td>\n",
       "      <td>NaN</td>\n",
       "      <td>NaN</td>\n",
       "    </tr>\n",
       "    <tr>\n",
       "      <th>6</th>\n",
       "      <td>Blue</td>\n",
       "      <td>470</td>\n",
       "      <td>638</td>\n",
       "      <td>2.13</td>\n",
       "      <td>2.64</td>\n",
       "      <td>254</td>\n",
       "    </tr>\n",
       "    <tr>\n",
       "      <th>7</th>\n",
       "      <td>Violet (visible)</td>\n",
       "      <td>420</td>\n",
       "      <td>714</td>\n",
       "      <td>2.38</td>\n",
       "      <td>2.95</td>\n",
       "      <td>285</td>\n",
       "    </tr>\n",
       "    <tr>\n",
       "      <th>8</th>\n",
       "      <td>Near ultraviolet</td>\n",
       "      <td>300</td>\n",
       "      <td>1000</td>\n",
       "      <td>3.33</td>\n",
       "      <td>4.15</td>\n",
       "      <td>400</td>\n",
       "    </tr>\n",
       "    <tr>\n",
       "      <th>9</th>\n",
       "      <td>Far ultraviolet</td>\n",
       "      <td>&lt;200</td>\n",
       "      <td>&gt;1500</td>\n",
       "      <td>&gt;5.00</td>\n",
       "      <td>&gt;6.20</td>\n",
       "      <td>&gt;598</td>\n",
       "    </tr>\n",
       "  </tbody>\n",
       "</table>\n",
       "</div>"
      ],
      "text/plain": [
       "              Color   (nm)  (THz) (μm−1)   (eV) (kJ mol−1)\n",
       "0          Infrared  >1000   <300  <1.00  <1.24       <120\n",
       "1               Red    700    428   1.43   1.77        171\n",
       "2            Orange    620    484   1.61   2.00        193\n",
       "3            Yellow    580    517   1.72   2.14        206\n",
       "4             Green    530    566   1.89   2.34        226\n",
       "5              Cyan    500    600    NaN    NaN        NaN\n",
       "6              Blue    470    638   2.13   2.64        254\n",
       "7  Violet (visible)    420    714   2.38   2.95        285\n",
       "8  Near ultraviolet    300   1000   3.33   4.15        400\n",
       "9   Far ultraviolet   <200  >1500  >5.00  >6.20       >598"
      ]
     },
     "execution_count": 7,
     "metadata": {},
     "output_type": "execute_result"
    }
   ],
   "source": [
    "tables[2]"
   ]
  },
  {
   "cell_type": "markdown",
   "metadata": {
    "ExecuteTime": {
     "end_time": "2020-07-07T16:02:49.185938Z",
     "start_time": "2020-07-07T16:02:49.163519Z"
    }
   },
   "source": [
    "Interesting that the numbers aren't completely consistent -- the numbers in the second aren't consistently in the middle of the ranges of the first table.\n",
    "\n",
    "Anyway, we'll use the second table, because there's ready too use numbers, not ranges"
   ]
  },
  {
   "cell_type": "code",
   "execution_count": 17,
   "metadata": {
    "ExecuteTime": {
     "end_time": "2020-07-07T16:45:08.668128Z",
     "start_time": "2020-07-07T16:45:08.644945Z"
    }
   },
   "outputs": [
    {
     "data": {
      "text/html": [
       "<div>\n",
       "<style scoped>\n",
       "    .dataframe tbody tr th:only-of-type {\n",
       "        vertical-align: middle;\n",
       "    }\n",
       "\n",
       "    .dataframe tbody tr th {\n",
       "        vertical-align: top;\n",
       "    }\n",
       "\n",
       "    .dataframe thead th {\n",
       "        text-align: right;\n",
       "    }\n",
       "</style>\n",
       "<table border=\"1\" class=\"dataframe\">\n",
       "  <thead>\n",
       "    <tr style=\"text-align: right;\">\n",
       "      <th></th>\n",
       "      <th>Color</th>\n",
       "      <th>(THz)</th>\n",
       "    </tr>\n",
       "  </thead>\n",
       "  <tbody>\n",
       "    <tr>\n",
       "      <th>1</th>\n",
       "      <td>Red</td>\n",
       "      <td>428.0</td>\n",
       "    </tr>\n",
       "    <tr>\n",
       "      <th>2</th>\n",
       "      <td>Orange</td>\n",
       "      <td>484.0</td>\n",
       "    </tr>\n",
       "    <tr>\n",
       "      <th>3</th>\n",
       "      <td>Yellow</td>\n",
       "      <td>517.0</td>\n",
       "    </tr>\n",
       "    <tr>\n",
       "      <th>4</th>\n",
       "      <td>Green</td>\n",
       "      <td>566.0</td>\n",
       "    </tr>\n",
       "    <tr>\n",
       "      <th>5</th>\n",
       "      <td>Cyan</td>\n",
       "      <td>600.0</td>\n",
       "    </tr>\n",
       "    <tr>\n",
       "      <th>6</th>\n",
       "      <td>Blue</td>\n",
       "      <td>638.0</td>\n",
       "    </tr>\n",
       "    <tr>\n",
       "      <th>7</th>\n",
       "      <td>Violet (visible)</td>\n",
       "      <td>714.0</td>\n",
       "    </tr>\n",
       "  </tbody>\n",
       "</table>\n",
       "</div>"
      ],
      "text/plain": [
       "              Color  (THz)\n",
       "1               Red  428.0\n",
       "2            Orange  484.0\n",
       "3            Yellow  517.0\n",
       "4             Green  566.0\n",
       "5              Cyan  600.0\n",
       "6              Blue  638.0\n",
       "7  Violet (visible)  714.0"
      ]
     },
     "execution_count": 17,
     "metadata": {},
     "output_type": "execute_result"
    }
   ],
   "source": [
    "d = tables[2]\n",
    "d = d[['Color', '(THz)']]\n",
    "d = d.iloc[1:8]\n",
    "d['(THz)'] = d['(THz)'].astype(float)\n",
    "d"
   ]
  },
  {
   "cell_type": "code",
   "execution_count": 20,
   "metadata": {
    "ExecuteTime": {
     "end_time": "2020-07-07T16:46:02.787836Z",
     "start_time": "2020-07-07T16:46:02.764154Z"
    }
   },
   "outputs": [
    {
     "data": {
      "text/html": [
       "<div>\n",
       "<style scoped>\n",
       "    .dataframe tbody tr th:only-of-type {\n",
       "        vertical-align: middle;\n",
       "    }\n",
       "\n",
       "    .dataframe tbody tr th {\n",
       "        vertical-align: top;\n",
       "    }\n",
       "\n",
       "    .dataframe thead th {\n",
       "        text-align: right;\n",
       "    }\n",
       "</style>\n",
       "<table border=\"1\" class=\"dataframe\">\n",
       "  <thead>\n",
       "    <tr style=\"text-align: right;\">\n",
       "      <th></th>\n",
       "      <th>Color</th>\n",
       "      <th>(THz)</th>\n",
       "      <th>log2_base_freq</th>\n",
       "    </tr>\n",
       "  </thead>\n",
       "  <tbody>\n",
       "    <tr>\n",
       "      <th>1</th>\n",
       "      <td>Red</td>\n",
       "      <td>428.0</td>\n",
       "      <td>0.604604</td>\n",
       "    </tr>\n",
       "    <tr>\n",
       "      <th>2</th>\n",
       "      <td>Orange</td>\n",
       "      <td>484.0</td>\n",
       "      <td>0.782000</td>\n",
       "    </tr>\n",
       "    <tr>\n",
       "      <th>3</th>\n",
       "      <td>Yellow</td>\n",
       "      <td>517.0</td>\n",
       "      <td>0.877158</td>\n",
       "    </tr>\n",
       "    <tr>\n",
       "      <th>4</th>\n",
       "      <td>Green</td>\n",
       "      <td>566.0</td>\n",
       "      <td>0.007795</td>\n",
       "    </tr>\n",
       "    <tr>\n",
       "      <th>5</th>\n",
       "      <td>Cyan</td>\n",
       "      <td>600.0</td>\n",
       "      <td>0.091956</td>\n",
       "    </tr>\n",
       "    <tr>\n",
       "      <th>6</th>\n",
       "      <td>Blue</td>\n",
       "      <td>638.0</td>\n",
       "      <td>0.180550</td>\n",
       "    </tr>\n",
       "    <tr>\n",
       "      <th>7</th>\n",
       "      <td>Violet (visible)</td>\n",
       "      <td>714.0</td>\n",
       "      <td>0.342917</td>\n",
       "    </tr>\n",
       "  </tbody>\n",
       "</table>\n",
       "</div>"
      ],
      "text/plain": [
       "              Color  (THz)  log2_base_freq\n",
       "1               Red  428.0        0.604604\n",
       "2            Orange  484.0        0.782000\n",
       "3            Yellow  517.0        0.877158\n",
       "4             Green  566.0        0.007795\n",
       "5              Cyan  600.0        0.091956\n",
       "6              Blue  638.0        0.180550\n",
       "7  Violet (visible)  714.0        0.342917"
      ]
     },
     "execution_count": 20,
     "metadata": {},
     "output_type": "execute_result"
    }
   ],
   "source": [
    "t = d['(THz)'] * 1e12  # Tera means 10^12 (10 ** 12 == 1e12)\n",
    "d['log2_base_freq'] = np.mod(np.log2(t), 1)\n",
    "d"
   ]
  },
  {
   "cell_type": "code",
   "execution_count": null,
   "metadata": {},
   "outputs": [],
   "source": []
  },
  {
   "cell_type": "code",
   "execution_count": null,
   "metadata": {},
   "outputs": [],
   "source": []
  },
  {
   "cell_type": "code",
   "execution_count": null,
   "metadata": {},
   "outputs": [],
   "source": []
  },
  {
   "cell_type": "code",
   "execution_count": null,
   "metadata": {},
   "outputs": [],
   "source": []
  }
 ],
 "metadata": {
  "kernelspec": {
   "display_name": "Python 3",
   "language": "python",
   "name": "python3"
  },
  "language_info": {
   "codemirror_mode": {
    "name": "ipython",
    "version": 3
   },
   "file_extension": ".py",
   "mimetype": "text/x-python",
   "name": "python",
   "nbconvert_exporter": "python",
   "pygments_lexer": "ipython3",
   "version": "3.8.2"
  },
  "latex_envs": {
   "LaTeX_envs_menu_present": true,
   "autoclose": false,
   "autocomplete": true,
   "bibliofile": "biblio.bib",
   "cite_by": "apalike",
   "current_citInitial": 1,
   "eqLabelWithNumbers": true,
   "eqNumInitial": 1,
   "hotkeys": {
    "equation": "Ctrl-E",
    "itemize": "Ctrl-I"
   },
   "labels_anchors": false,
   "latex_user_defs": false,
   "report_style_numbering": false,
   "user_envs_cfg": false
  },
  "toc": {
   "base_numbering": 1,
   "nav_menu": {},
   "number_sections": true,
   "sideBar": false,
   "skip_h1_title": false,
   "title_cell": "Table of Contents",
   "title_sidebar": "Contents",
   "toc_cell": true,
   "toc_position": {
    "height": "148px",
    "left": "83px",
    "top": "110px",
    "width": "785px"
   },
   "toc_section_display": true,
   "toc_window_display": true
  }
 },
 "nbformat": 4,
 "nbformat_minor": 4
}
